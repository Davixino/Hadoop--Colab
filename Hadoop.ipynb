{
  "nbformat": 4,
  "nbformat_minor": 0,
  "metadata": {
    "colab": {
      "provenance": [],
      "authorship_tag": "ABX9TyP2IyvL1sw9BnFtAJIRRoF3",
      "include_colab_link": true
    },
    "kernelspec": {
      "name": "python3",
      "display_name": "Python 3"
    },
    "language_info": {
      "name": "python"
    }
  },
  "cells": [
    {
      "cell_type": "markdown",
      "metadata": {
        "id": "view-in-github",
        "colab_type": "text"
      },
      "source": [
        "<a href=\"https://colab.research.google.com/github/Davixino/Hadoop--Colab/blob/main/Hadoop.ipynb\" target=\"_parent\"><img src=\"https://colab.research.google.com/assets/colab-badge.svg\" alt=\"Open In Colab\"/></a>"
      ]
    },
    {
      "cell_type": "code",
      "execution_count": null,
      "metadata": {
        "id": "QvCwovDMoAxc"
      },
      "outputs": [],
      "source": [
        "!apt-get install -y openjdk-11-jdk-headless -qq > /dev/null"
      ]
    },
    {
      "cell_type": "code",
      "source": [
        "!wget https://downloads.apache.org/hadoop/common/hadoop-3.3.0/hadoop-3.3.0.tar.gz"
      ],
      "metadata": {
        "colab": {
          "base_uri": "https://localhost:8080/"
        },
        "id": "yw-tlsLCoHuC",
        "outputId": "06d98dee-e1fb-4cb1-c690-77e82a6508cd"
      },
      "execution_count": null,
      "outputs": [
        {
          "output_type": "stream",
          "name": "stdout",
          "text": [
            "--2022-01-23 00:40:26--  https://downloads.apache.org/hadoop/common/hadoop-3.3.0/hadoop-3.3.0.tar.gz\n",
            "Resolving downloads.apache.org (downloads.apache.org)... 135.181.214.104, 88.99.95.219, 2a01:4f9:3a:2c57::2, ...\n",
            "Connecting to downloads.apache.org (downloads.apache.org)|135.181.214.104|:443... connected.\n",
            "HTTP request sent, awaiting response... 200 OK\n",
            "Length: 500749234 (478M) [application/x-gzip]\n",
            "Saving to: ‘hadoop-3.3.0.tar.gz’\n",
            "\n",
            "hadoop-3.3.0.tar.gz 100%[===================>] 477.55M  22.8MB/s    in 22s     \n",
            "\n",
            "2022-01-23 00:40:48 (22.2 MB/s) - ‘hadoop-3.3.0.tar.gz’ saved [500749234/500749234]\n",
            "\n"
          ]
        }
      ]
    },
    {
      "cell_type": "code",
      "source": [
        "!tar -xzf hadoop-3.3.0.tar.gz\n",
        "!mv hadoop-3.3.0/ /usr/local/"
      ],
      "metadata": {
        "id": "Ww0evTkeoQCa"
      },
      "execution_count": null,
      "outputs": []
    },
    {
      "cell_type": "code",
      "source": [
        "import os\n",
        "os.environ[\"JAVA_HOME\"] = \"/usr/lib/jvm/java-11-openjdk-amd64\"\n",
        "os.environ[\"HADOOP_HOME\"] = \"/usr/local/hadoop-3.3.0\"\n",
        "os.environ[\"PATH\"] += os.pathsep + \"/usr/local/hadoop-3.3.0/bin\""
      ],
      "metadata": {
        "id": "xk7jN9V3oTFh"
      },
      "execution_count": null,
      "outputs": []
    },
    {
      "cell_type": "code",
      "source": [
        "!chmod u+x ./mapperModaGastoPorPersona.py\n",
        "!chmod u+x ./combinerModaGastoPorPersona.py\n",
        "!chmod u+x ./reducerModaGastoPorPersona.py"
      ],
      "metadata": {
        "id": "bXZKvM-UsnCW"
      },
      "execution_count": null,
      "outputs": []
    },
    {
      "cell_type": "code",
      "source": [
        "!chmod u+x ./mapperPersonasQueCompranEnMuchasTiendas.py\n",
        "!chmod u+x ./combinerPersonasQueCompranEnMuchasTiendas.py\n",
        "!chmod u+x ./reducerPersonasQueCompranEnMuchasTiendas.py"
      ],
      "metadata": {
        "id": "rUPZquuLEac0"
      },
      "execution_count": null,
      "outputs": []
    },
    {
      "cell_type": "code",
      "source": [
        "!hadoop jar $HADOOP_HOME/share/hadoop/tools/lib/hadoop-streaming-3.3.0.jar -file ./mapperPersonasQueCompranEnMuchasTiendas.py -mapper ./mapperPersonasQueCompranEnMuchasTiendas.py  -file ./reducerPersonasQueCompranEnMuchasTiendas.py -reducer ./reducerPersonasQueCompranEnMuchasTiendas.py -input casoDePrueba.txt -output ./MR"
      ],
      "metadata": {
        "id": "VpaARonZ3hyd",
        "colab": {
          "base_uri": "https://localhost:8080/"
        },
        "outputId": "7bba6676-d2c8-425a-85b6-41ea0ba9846c"
      },
      "execution_count": null,
      "outputs": [
        {
          "output_type": "stream",
          "name": "stdout",
          "text": [
            "2022-01-23 02:38:11,814 WARN streaming.StreamJob: -file option is deprecated, please use generic option -files instead.\n",
            "packageJobJar: [./mapperPersonasQueCompranEnMuchasTiendas.py, ./reducerPersonasQueCompranEnMuchasTiendas.py] [] /tmp/streamjob15812466487602802899.jar tmpDir=null\n",
            "2022-01-23 02:38:12,683 INFO impl.MetricsConfig: Loaded properties from hadoop-metrics2.properties\n",
            "2022-01-23 02:38:12,880 INFO impl.MetricsSystemImpl: Scheduled Metric snapshot period at 10 second(s).\n",
            "2022-01-23 02:38:12,880 INFO impl.MetricsSystemImpl: JobTracker metrics system started\n",
            "2022-01-23 02:38:12,903 WARN impl.MetricsSystemImpl: JobTracker metrics system already initialized!\n",
            "2022-01-23 02:38:13,041 INFO mapred.FileInputFormat: Total input files to process : 1\n",
            "2022-01-23 02:38:13,078 INFO mapreduce.JobSubmitter: number of splits:1\n",
            "2022-01-23 02:38:13,355 INFO mapreduce.JobSubmitter: Submitting tokens for job: job_local1769350126_0001\n",
            "2022-01-23 02:38:13,355 INFO mapreduce.JobSubmitter: Executing with tokens: []\n",
            "2022-01-23 02:38:13,795 INFO mapred.LocalDistributedCacheManager: Localized file:/content/mapperPersonasQueCompranEnMuchasTiendas.py as file:/tmp/hadoop-root/mapred/local/job_local1769350126_0001_702a9b05-f7f5-48f9-85f7-b4a225c3e78d/mapperPersonasQueCompranEnMuchasTiendas.py\n",
            "2022-01-23 02:38:13,851 INFO mapred.LocalDistributedCacheManager: Localized file:/content/reducerPersonasQueCompranEnMuchasTiendas.py as file:/tmp/hadoop-root/mapred/local/job_local1769350126_0001_570cefc8-ad0c-4e3d-9144-2b9c4401bfff/reducerPersonasQueCompranEnMuchasTiendas.py\n",
            "2022-01-23 02:38:13,987 INFO mapreduce.Job: The url to track the job: http://localhost:8080/\n",
            "2022-01-23 02:38:13,989 INFO mapreduce.Job: Running job: job_local1769350126_0001\n",
            "2022-01-23 02:38:13,998 INFO mapred.LocalJobRunner: OutputCommitter set in config null\n",
            "2022-01-23 02:38:14,010 INFO mapred.LocalJobRunner: OutputCommitter is org.apache.hadoop.mapred.FileOutputCommitter\n",
            "2022-01-23 02:38:14,015 INFO output.FileOutputCommitter: File Output Committer Algorithm version is 2\n",
            "2022-01-23 02:38:14,015 INFO output.FileOutputCommitter: FileOutputCommitter skip cleanup _temporary folders under output directory:false, ignore cleanup failures: false\n",
            "2022-01-23 02:38:14,064 INFO mapred.LocalJobRunner: Waiting for map tasks\n",
            "2022-01-23 02:38:14,068 INFO mapred.LocalJobRunner: Starting task: attempt_local1769350126_0001_m_000000_0\n",
            "2022-01-23 02:38:14,120 INFO output.FileOutputCommitter: File Output Committer Algorithm version is 2\n",
            "2022-01-23 02:38:14,122 INFO output.FileOutputCommitter: FileOutputCommitter skip cleanup _temporary folders under output directory:false, ignore cleanup failures: false\n",
            "2022-01-23 02:38:14,154 INFO mapred.Task:  Using ResourceCalculatorProcessTree : [ ]\n",
            "2022-01-23 02:38:14,169 INFO mapred.MapTask: Processing split: file:/content/casoDePrueba.txt:0+2645\n",
            "2022-01-23 02:38:14,203 INFO mapred.MapTask: numReduceTasks: 1\n",
            "2022-01-23 02:38:14,300 INFO mapred.MapTask: (EQUATOR) 0 kvi 26214396(104857584)\n",
            "2022-01-23 02:38:14,300 INFO mapred.MapTask: mapreduce.task.io.sort.mb: 100\n",
            "2022-01-23 02:38:14,300 INFO mapred.MapTask: soft limit at 83886080\n",
            "2022-01-23 02:38:14,300 INFO mapred.MapTask: bufstart = 0; bufvoid = 104857600\n",
            "2022-01-23 02:38:14,300 INFO mapred.MapTask: kvstart = 26214396; length = 6553600\n",
            "2022-01-23 02:38:14,304 INFO mapred.MapTask: Map output collector class = org.apache.hadoop.mapred.MapTask$MapOutputBuffer\n",
            "2022-01-23 02:38:14,316 INFO streaming.PipeMapRed: PipeMapRed exec [/content/./mapperPersonasQueCompranEnMuchasTiendas.py]\n",
            "2022-01-23 02:38:14,326 INFO Configuration.deprecation: mapred.work.output.dir is deprecated. Instead, use mapreduce.task.output.dir\n",
            "2022-01-23 02:38:14,329 INFO Configuration.deprecation: map.input.start is deprecated. Instead, use mapreduce.map.input.start\n",
            "2022-01-23 02:38:14,330 INFO Configuration.deprecation: mapred.task.is.map is deprecated. Instead, use mapreduce.task.ismap\n",
            "2022-01-23 02:38:14,331 INFO Configuration.deprecation: mapred.task.id is deprecated. Instead, use mapreduce.task.attempt.id\n",
            "2022-01-23 02:38:14,333 INFO Configuration.deprecation: mapred.tip.id is deprecated. Instead, use mapreduce.task.id\n",
            "2022-01-23 02:38:14,333 INFO Configuration.deprecation: mapred.local.dir is deprecated. Instead, use mapreduce.cluster.local.dir\n",
            "2022-01-23 02:38:14,334 INFO Configuration.deprecation: map.input.file is deprecated. Instead, use mapreduce.map.input.file\n",
            "2022-01-23 02:38:14,335 INFO Configuration.deprecation: mapred.skip.on is deprecated. Instead, use mapreduce.job.skiprecords\n",
            "2022-01-23 02:38:14,336 INFO Configuration.deprecation: map.input.length is deprecated. Instead, use mapreduce.map.input.length\n",
            "2022-01-23 02:38:14,336 INFO Configuration.deprecation: mapred.job.id is deprecated. Instead, use mapreduce.job.id\n",
            "2022-01-23 02:38:14,340 INFO Configuration.deprecation: user.name is deprecated. Instead, use mapreduce.job.user.name\n",
            "2022-01-23 02:38:14,341 INFO Configuration.deprecation: mapred.task.partition is deprecated. Instead, use mapreduce.task.partition\n",
            "2022-01-23 02:38:14,377 INFO streaming.PipeMapRed: R/W/S=1/0/0 in:NA [rec/s] out:NA [rec/s]\n",
            "2022-01-23 02:38:14,378 INFO streaming.PipeMapRed: R/W/S=10/0/0 in:NA [rec/s] out:NA [rec/s]\n",
            "2022-01-23 02:38:14,380 INFO streaming.PipeMapRed: R/W/S=100/0/0 in:NA [rec/s] out:NA [rec/s]\n",
            "2022-01-23 02:38:14,415 INFO streaming.PipeMapRed: Records R/W=104/1\n",
            "2022-01-23 02:38:14,423 INFO streaming.PipeMapRed: MRErrorThread done\n",
            "2022-01-23 02:38:14,424 INFO streaming.PipeMapRed: mapRedFinished\n",
            "2022-01-23 02:38:14,427 INFO mapred.LocalJobRunner: \n",
            "2022-01-23 02:38:14,427 INFO mapred.MapTask: Starting flush of map output\n",
            "2022-01-23 02:38:14,427 INFO mapred.MapTask: Spilling map output\n",
            "2022-01-23 02:38:14,427 INFO mapred.MapTask: bufstart = 0; bufend = 2646; bufvoid = 104857600\n",
            "2022-01-23 02:38:14,427 INFO mapred.MapTask: kvstart = 26214396(104857584); kvend = 26213984(104855936); length = 413/6553600\n",
            "2022-01-23 02:38:14,435 INFO mapred.MapTask: Finished spill 0\n",
            "2022-01-23 02:38:14,445 INFO mapred.Task: Task:attempt_local1769350126_0001_m_000000_0 is done. And is in the process of committing\n",
            "2022-01-23 02:38:14,447 INFO mapred.LocalJobRunner: Records R/W=104/1\n",
            "2022-01-23 02:38:14,447 INFO mapred.Task: Task 'attempt_local1769350126_0001_m_000000_0' done.\n",
            "2022-01-23 02:38:14,454 INFO mapred.Task: Final Counters for attempt_local1769350126_0001_m_000000_0: Counters: 17\n",
            "\tFile System Counters\n",
            "\t\tFILE: Number of bytes read=4445\n",
            "\t\tFILE: Number of bytes written=620201\n",
            "\t\tFILE: Number of read operations=0\n",
            "\t\tFILE: Number of large read operations=0\n",
            "\t\tFILE: Number of write operations=0\n",
            "\tMap-Reduce Framework\n",
            "\t\tMap input records=104\n",
            "\t\tMap output records=104\n",
            "\t\tMap output bytes=2646\n",
            "\t\tMap output materialized bytes=2860\n",
            "\t\tInput split bytes=82\n",
            "\t\tCombine input records=0\n",
            "\t\tSpilled Records=104\n",
            "\t\tFailed Shuffles=0\n",
            "\t\tMerged Map outputs=0\n",
            "\t\tGC time elapsed (ms)=0\n",
            "\t\tTotal committed heap usage (bytes)=352321536\n",
            "\tFile Input Format Counters \n",
            "\t\tBytes Read=2645\n",
            "2022-01-23 02:38:14,454 INFO mapred.LocalJobRunner: Finishing task: attempt_local1769350126_0001_m_000000_0\n",
            "2022-01-23 02:38:14,454 INFO mapred.LocalJobRunner: map task executor complete.\n",
            "2022-01-23 02:38:14,461 INFO mapred.LocalJobRunner: Waiting for reduce tasks\n",
            "2022-01-23 02:38:14,462 INFO mapred.LocalJobRunner: Starting task: attempt_local1769350126_0001_r_000000_0\n",
            "2022-01-23 02:38:14,484 INFO output.FileOutputCommitter: File Output Committer Algorithm version is 2\n",
            "2022-01-23 02:38:14,484 INFO output.FileOutputCommitter: FileOutputCommitter skip cleanup _temporary folders under output directory:false, ignore cleanup failures: false\n",
            "2022-01-23 02:38:14,484 INFO mapred.Task:  Using ResourceCalculatorProcessTree : [ ]\n",
            "2022-01-23 02:38:14,488 INFO mapred.ReduceTask: Using ShuffleConsumerPlugin: org.apache.hadoop.mapreduce.task.reduce.Shuffle@7f3d103d\n",
            "2022-01-23 02:38:14,492 WARN impl.MetricsSystemImpl: JobTracker metrics system already initialized!\n",
            "2022-01-23 02:38:14,522 INFO reduce.MergeManagerImpl: MergerManager: memoryLimit=2384042240, maxSingleShuffleLimit=596010560, mergeThreshold=1573467904, ioSortFactor=10, memToMemMergeOutputsThreshold=10\n",
            "2022-01-23 02:38:14,524 INFO reduce.EventFetcher: attempt_local1769350126_0001_r_000000_0 Thread started: EventFetcher for fetching Map Completion Events\n",
            "2022-01-23 02:38:14,584 INFO reduce.LocalFetcher: localfetcher#1 about to shuffle output of map attempt_local1769350126_0001_m_000000_0 decomp: 2856 len: 2860 to MEMORY\n",
            "2022-01-23 02:38:14,589 INFO reduce.InMemoryMapOutput: Read 2856 bytes from map-output for attempt_local1769350126_0001_m_000000_0\n",
            "2022-01-23 02:38:14,592 INFO reduce.MergeManagerImpl: closeInMemoryFile -> map-output of size: 2856, inMemoryMapOutputs.size() -> 1, commitMemory -> 0, usedMemory ->2856\n",
            "2022-01-23 02:38:14,597 INFO reduce.EventFetcher: EventFetcher is interrupted.. Returning\n",
            "2022-01-23 02:38:14,598 INFO mapred.LocalJobRunner: 1 / 1 copied.\n",
            "2022-01-23 02:38:14,598 INFO reduce.MergeManagerImpl: finalMerge called with 1 in-memory map-outputs and 0 on-disk map-outputs\n",
            "2022-01-23 02:38:14,617 INFO mapred.Merger: Merging 1 sorted segments\n",
            "2022-01-23 02:38:14,617 INFO mapred.Merger: Down to the last merge-pass, with 1 segments left of total size: 2848 bytes\n",
            "2022-01-23 02:38:14,622 INFO reduce.MergeManagerImpl: Merged 1 segments, 2856 bytes to disk to satisfy reduce memory limit\n",
            "2022-01-23 02:38:14,623 INFO reduce.MergeManagerImpl: Merging 1 files, 2860 bytes from disk\n",
            "2022-01-23 02:38:14,624 INFO reduce.MergeManagerImpl: Merging 0 segments, 0 bytes from memory into reduce\n",
            "2022-01-23 02:38:14,624 INFO mapred.Merger: Merging 1 sorted segments\n",
            "2022-01-23 02:38:14,625 INFO mapred.Merger: Down to the last merge-pass, with 1 segments left of total size: 2848 bytes\n",
            "2022-01-23 02:38:14,626 INFO mapred.LocalJobRunner: 1 / 1 copied.\n",
            "2022-01-23 02:38:14,639 INFO streaming.PipeMapRed: PipeMapRed exec [/content/./reducerPersonasQueCompranEnMuchasTiendas.py]\n",
            "2022-01-23 02:38:14,644 INFO Configuration.deprecation: mapred.job.tracker is deprecated. Instead, use mapreduce.jobtracker.address\n",
            "2022-01-23 02:38:14,646 INFO Configuration.deprecation: mapred.map.tasks is deprecated. Instead, use mapreduce.job.maps\n",
            "2022-01-23 02:38:14,678 INFO streaming.PipeMapRed: R/W/S=1/0/0 in:NA [rec/s] out:NA [rec/s]\n",
            "2022-01-23 02:38:14,678 INFO streaming.PipeMapRed: R/W/S=10/0/0 in:NA [rec/s] out:NA [rec/s]\n",
            "2022-01-23 02:38:14,681 INFO streaming.PipeMapRed: R/W/S=100/0/0 in:NA [rec/s] out:NA [rec/s]\n",
            "2022-01-23 02:38:14,713 INFO streaming.PipeMapRed: Records R/W=104/1\n",
            "2022-01-23 02:38:14,717 INFO streaming.PipeMapRed: MRErrorThread done\n",
            "2022-01-23 02:38:14,718 INFO streaming.PipeMapRed: mapRedFinished\n",
            "2022-01-23 02:38:14,719 INFO mapred.Task: Task:attempt_local1769350126_0001_r_000000_0 is done. And is in the process of committing\n",
            "2022-01-23 02:38:14,720 INFO mapred.LocalJobRunner: 1 / 1 copied.\n",
            "2022-01-23 02:38:14,720 INFO mapred.Task: Task attempt_local1769350126_0001_r_000000_0 is allowed to commit now\n",
            "2022-01-23 02:38:14,721 INFO output.FileOutputCommitter: Saved output of task 'attempt_local1769350126_0001_r_000000_0' to file:/content/MR\n",
            "2022-01-23 02:38:14,723 INFO mapred.LocalJobRunner: Records R/W=104/1 > reduce\n",
            "2022-01-23 02:38:14,723 INFO mapred.Task: Task 'attempt_local1769350126_0001_r_000000_0' done.\n",
            "2022-01-23 02:38:14,725 INFO mapred.Task: Final Counters for attempt_local1769350126_0001_r_000000_0: Counters: 24\n",
            "\tFile System Counters\n",
            "\t\tFILE: Number of bytes read=10197\n",
            "\t\tFILE: Number of bytes written=623093\n",
            "\t\tFILE: Number of read operations=0\n",
            "\t\tFILE: Number of large read operations=0\n",
            "\t\tFILE: Number of write operations=0\n",
            "\tMap-Reduce Framework\n",
            "\t\tCombine input records=0\n",
            "\t\tCombine output records=0\n",
            "\t\tReduce input groups=4\n",
            "\t\tReduce shuffle bytes=2860\n",
            "\t\tReduce input records=104\n",
            "\t\tReduce output records=3\n",
            "\t\tSpilled Records=104\n",
            "\t\tShuffled Maps =1\n",
            "\t\tFailed Shuffles=0\n",
            "\t\tMerged Map outputs=1\n",
            "\t\tGC time elapsed (ms)=0\n",
            "\t\tTotal committed heap usage (bytes)=352321536\n",
            "\tShuffle Errors\n",
            "\t\tBAD_ID=0\n",
            "\t\tCONNECTION=0\n",
            "\t\tIO_ERROR=0\n",
            "\t\tWRONG_LENGTH=0\n",
            "\t\tWRONG_MAP=0\n",
            "\t\tWRONG_REDUCE=0\n",
            "\tFile Output Format Counters \n",
            "\t\tBytes Written=32\n",
            "2022-01-23 02:38:14,726 INFO mapred.LocalJobRunner: Finishing task: attempt_local1769350126_0001_r_000000_0\n",
            "2022-01-23 02:38:14,726 INFO mapred.LocalJobRunner: reduce task executor complete.\n",
            "2022-01-23 02:38:14,995 INFO mapreduce.Job: Job job_local1769350126_0001 running in uber mode : false\n",
            "2022-01-23 02:38:14,996 INFO mapreduce.Job:  map 100% reduce 100%\n",
            "2022-01-23 02:38:14,997 INFO mapreduce.Job: Job job_local1769350126_0001 completed successfully\n",
            "2022-01-23 02:38:15,011 INFO mapreduce.Job: Counters: 30\n",
            "\tFile System Counters\n",
            "\t\tFILE: Number of bytes read=14642\n",
            "\t\tFILE: Number of bytes written=1243294\n",
            "\t\tFILE: Number of read operations=0\n",
            "\t\tFILE: Number of large read operations=0\n",
            "\t\tFILE: Number of write operations=0\n",
            "\tMap-Reduce Framework\n",
            "\t\tMap input records=104\n",
            "\t\tMap output records=104\n",
            "\t\tMap output bytes=2646\n",
            "\t\tMap output materialized bytes=2860\n",
            "\t\tInput split bytes=82\n",
            "\t\tCombine input records=0\n",
            "\t\tCombine output records=0\n",
            "\t\tReduce input groups=4\n",
            "\t\tReduce shuffle bytes=2860\n",
            "\t\tReduce input records=104\n",
            "\t\tReduce output records=3\n",
            "\t\tSpilled Records=208\n",
            "\t\tShuffled Maps =1\n",
            "\t\tFailed Shuffles=0\n",
            "\t\tMerged Map outputs=1\n",
            "\t\tGC time elapsed (ms)=0\n",
            "\t\tTotal committed heap usage (bytes)=704643072\n",
            "\tShuffle Errors\n",
            "\t\tBAD_ID=0\n",
            "\t\tCONNECTION=0\n",
            "\t\tIO_ERROR=0\n",
            "\t\tWRONG_LENGTH=0\n",
            "\t\tWRONG_MAP=0\n",
            "\t\tWRONG_REDUCE=0\n",
            "\tFile Input Format Counters \n",
            "\t\tBytes Read=2645\n",
            "\tFile Output Format Counters \n",
            "\t\tBytes Written=32\n",
            "2022-01-23 02:38:15,011 INFO streaming.StreamJob: Output directory: ./MR\n"
          ]
        }
      ]
    },
    {
      "cell_type": "code",
      "source": [
        "!cat ./misalida/*"
      ],
      "metadata": {
        "colab": {
          "base_uri": "https://localhost:8080/"
        },
        "id": "FCjemvrfobwg",
        "outputId": "8419d625-519f-445b-d1b3-836529251c25"
      },
      "execution_count": null,
      "outputs": [
        {
          "output_type": "stream",
          "name": "stdout",
          "text": [
            "Alice\t\n",
            "Carol\t\n",
            "Dave\t\n"
          ]
        }
      ]
    }
  ]
}